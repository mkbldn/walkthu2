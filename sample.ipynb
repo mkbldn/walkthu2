{
 "cells": [
  {
   "cell_type": "markdown",
   "id": "8c2dd5fb-2e6b-4f64-b947-c721d72957dc",
   "metadata": {},
   "source": [
    "# Walkthru sample notebook"
   ]
  },
  {
   "cell_type": "markdown",
   "id": "6765f35a-3d6f-440f-a270-1d5e292c8f83",
   "metadata": {},
   "source": [
    "Here's how I calc `1+1`"
   ]
  },
  {
   "cell_type": "code",
   "execution_count": 1,
   "id": "82896f84-7b39-422b-8ddb-6f4908325876",
   "metadata": {
    "tags": []
   },
   "outputs": [
    {
     "data": {
      "text/plain": [
       "2"
      ]
     },
     "execution_count": 1,
     "metadata": {},
     "output_type": "execute_result"
    }
   ],
   "source": [
    "1+1"
   ]
  },
  {
   "cell_type": "code",
   "execution_count": 2,
   "id": "6f3d6e78-2298-4c1d-af92-e58aabf23c6b",
   "metadata": {
    "tags": []
   },
   "outputs": [],
   "source": [
    "import numpy as np"
   ]
  },
  {
   "cell_type": "markdown",
   "id": "607e9167-a336-46cc-a717-16beff1b23fa",
   "metadata": {},
   "source": [
    "Here is how I calc `sin`"
   ]
  },
  {
   "cell_type": "code",
   "execution_count": 6,
   "id": "e5c69d90-29ea-4dea-83b0-0173aa3666df",
   "metadata": {
    "tags": []
   },
   "outputs": [],
   "source": [
    "a = np.array([1.0, np.pi/2])"
   ]
  },
  {
   "cell_type": "code",
   "execution_count": 7,
   "id": "5a8d8e05-5c21-4107-a613-1074026ec686",
   "metadata": {
    "tags": []
   },
   "outputs": [
    {
     "data": {
      "text/plain": [
       "array([1.        , 1.57079633])"
      ]
     },
     "execution_count": 7,
     "metadata": {},
     "output_type": "execute_result"
    }
   ],
   "source": [
    "a"
   ]
  },
  {
   "cell_type": "code",
   "execution_count": null,
   "id": "4c528dc6-7e34-4823-9112-5ff15e6b45fd",
   "metadata": {},
   "outputs": [],
   "source": []
  },
  {
   "cell_type": "code",
   "execution_count": null,
   "id": "8802904e-7abf-4b9a-97d5-a033cd2fa339",
   "metadata": {},
   "outputs": [],
   "source": []
  }
 ],
 "metadata": {
  "kernelspec": {
   "display_name": "Python 3 (ipykernel)",
   "language": "python",
   "name": "python3"
  },
  "language_info": {
   "codemirror_mode": {
    "name": "ipython",
    "version": 3
   },
   "file_extension": ".py",
   "mimetype": "text/x-python",
   "name": "python",
   "nbconvert_exporter": "python",
   "pygments_lexer": "ipython3",
   "version": "3.10.9"
  }
 },
 "nbformat": 4,
 "nbformat_minor": 5
}
